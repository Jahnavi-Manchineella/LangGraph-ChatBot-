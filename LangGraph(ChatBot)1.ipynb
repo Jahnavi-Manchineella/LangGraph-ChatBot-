{
  "nbformat": 4,
  "nbformat_minor": 0,
  "metadata": {
    "colab": {
      "provenance": [],
      "authorship_tag": "ABX9TyPJTaJcv5Ee79A8XWda7CcV",
      "include_colab_link": true
    },
    "kernelspec": {
      "name": "python3",
      "display_name": "Python 3"
    },
    "language_info": {
      "name": "python"
    }
  },
  "cells": [
    {
      "cell_type": "markdown",
      "metadata": {
        "id": "view-in-github",
        "colab_type": "text"
      },
      "source": [
        "<a href=\"https://colab.research.google.com/github/Jahnavi-Manchineella/LangGraph-ChatBot-/blob/main/LangGraph(ChatBot)1.ipynb\" target=\"_parent\"><img src=\"https://colab.research.google.com/assets/colab-badge.svg\" alt=\"Open In Colab\"/></a>"
      ]
    },
    {
      "cell_type": "code",
      "execution_count": null,
      "metadata": {
        "colab": {
          "base_uri": "https://localhost:8080/"
        },
        "id": "pwH8w_olfJcQ",
        "outputId": "c90ed78e-7e39-4ad0-e97e-5f3a337307ca",
        "collapsed": true
      },
      "outputs": [
        {
          "output_type": "stream",
          "name": "stdout",
          "text": [
            "Collecting langgraph\n",
            "  Downloading langgraph-0.3.2-py3-none-any.whl.metadata (17 kB)\n",
            "Requirement already satisfied: langsmith in /usr/local/lib/python3.11/dist-packages (0.3.1)\n",
            "Requirement already satisfied: langchain-core<0.4,>=0.1 in /usr/local/lib/python3.11/dist-packages (from langgraph) (0.3.31)\n",
            "Collecting langgraph-checkpoint<3.0.0,>=2.0.10 (from langgraph)\n",
            "  Downloading langgraph_checkpoint-2.0.16-py3-none-any.whl.metadata (4.6 kB)\n",
            "Collecting langgraph-prebuilt<0.2,>=0.1.1 (from langgraph)\n",
            "  Downloading langgraph_prebuilt-0.1.1-py3-none-any.whl.metadata (5.0 kB)\n",
            "Collecting langgraph-sdk<0.2.0,>=0.1.42 (from langgraph)\n",
            "  Downloading langgraph_sdk-0.1.53-py3-none-any.whl.metadata (1.8 kB)\n",
            "Requirement already satisfied: httpx<1,>=0.23.0 in /usr/local/lib/python3.11/dist-packages (from langsmith) (0.28.1)\n",
            "Requirement already satisfied: orjson<4.0.0,>=3.9.14 in /usr/local/lib/python3.11/dist-packages (from langsmith) (3.10.15)\n",
            "Requirement already satisfied: pydantic<3,>=1 in /usr/local/lib/python3.11/dist-packages (from langsmith) (2.10.6)\n",
            "Requirement already satisfied: requests<3,>=2 in /usr/local/lib/python3.11/dist-packages (from langsmith) (2.32.3)\n",
            "Requirement already satisfied: requests-toolbelt<2.0.0,>=1.0.0 in /usr/local/lib/python3.11/dist-packages (from langsmith) (1.0.0)\n",
            "Requirement already satisfied: zstandard<0.24.0,>=0.23.0 in /usr/local/lib/python3.11/dist-packages (from langsmith) (0.23.0)\n",
            "Requirement already satisfied: anyio in /usr/local/lib/python3.11/dist-packages (from httpx<1,>=0.23.0->langsmith) (3.7.1)\n",
            "Requirement already satisfied: certifi in /usr/local/lib/python3.11/dist-packages (from httpx<1,>=0.23.0->langsmith) (2024.12.14)\n",
            "Requirement already satisfied: httpcore==1.* in /usr/local/lib/python3.11/dist-packages (from httpx<1,>=0.23.0->langsmith) (1.0.7)\n",
            "Requirement already satisfied: idna in /usr/local/lib/python3.11/dist-packages (from httpx<1,>=0.23.0->langsmith) (3.10)\n",
            "Requirement already satisfied: h11<0.15,>=0.13 in /usr/local/lib/python3.11/dist-packages (from httpcore==1.*->httpx<1,>=0.23.0->langsmith) (0.14.0)\n",
            "Requirement already satisfied: PyYAML>=5.3 in /usr/local/lib/python3.11/dist-packages (from langchain-core<0.4,>=0.1->langgraph) (6.0.2)\n",
            "Requirement already satisfied: jsonpatch<2.0,>=1.33 in /usr/local/lib/python3.11/dist-packages (from langchain-core<0.4,>=0.1->langgraph) (1.33)\n",
            "Requirement already satisfied: packaging<25,>=23.2 in /usr/local/lib/python3.11/dist-packages (from langchain-core<0.4,>=0.1->langgraph) (24.2)\n",
            "Requirement already satisfied: tenacity!=8.4.0,<10.0.0,>=8.1.0 in /usr/local/lib/python3.11/dist-packages (from langchain-core<0.4,>=0.1->langgraph) (9.0.0)\n",
            "Requirement already satisfied: typing-extensions>=4.7 in /usr/local/lib/python3.11/dist-packages (from langchain-core<0.4,>=0.1->langgraph) (4.12.2)\n",
            "Requirement already satisfied: msgpack<2.0.0,>=1.1.0 in /usr/local/lib/python3.11/dist-packages (from langgraph-checkpoint<3.0.0,>=2.0.10->langgraph) (1.1.0)\n",
            "Requirement already satisfied: annotated-types>=0.6.0 in /usr/local/lib/python3.11/dist-packages (from pydantic<3,>=1->langsmith) (0.7.0)\n",
            "Requirement already satisfied: pydantic-core==2.27.2 in /usr/local/lib/python3.11/dist-packages (from pydantic<3,>=1->langsmith) (2.27.2)\n",
            "Requirement already satisfied: charset-normalizer<4,>=2 in /usr/local/lib/python3.11/dist-packages (from requests<3,>=2->langsmith) (3.4.1)\n",
            "Requirement already satisfied: urllib3<3,>=1.21.1 in /usr/local/lib/python3.11/dist-packages (from requests<3,>=2->langsmith) (2.3.0)\n",
            "Requirement already satisfied: jsonpointer>=1.9 in /usr/local/lib/python3.11/dist-packages (from jsonpatch<2.0,>=1.33->langchain-core<0.4,>=0.1->langgraph) (3.0.0)\n",
            "Requirement already satisfied: sniffio>=1.1 in /usr/local/lib/python3.11/dist-packages (from anyio->httpx<1,>=0.23.0->langsmith) (1.3.1)\n",
            "Downloading langgraph-0.3.2-py3-none-any.whl (130 kB)\n",
            "\u001b[2K   \u001b[90m━━━━━━━━━━━━━━━━━━━━━━━━━━━━━━━━━━━━━━━━\u001b[0m \u001b[32m130.9/130.9 kB\u001b[0m \u001b[31m4.4 MB/s\u001b[0m eta \u001b[36m0:00:00\u001b[0m\n",
            "\u001b[?25hDownloading langgraph_checkpoint-2.0.16-py3-none-any.whl (38 kB)\n",
            "Downloading langgraph_prebuilt-0.1.1-py3-none-any.whl (24 kB)\n",
            "Downloading langgraph_sdk-0.1.53-py3-none-any.whl (45 kB)\n",
            "\u001b[2K   \u001b[90m━━━━━━━━━━━━━━━━━━━━━━━━━━━━━━━━━━━━━━━━\u001b[0m \u001b[32m45.4/45.4 kB\u001b[0m \u001b[31m3.2 MB/s\u001b[0m eta \u001b[36m0:00:00\u001b[0m\n",
            "\u001b[?25hInstalling collected packages: langgraph-sdk, langgraph-checkpoint, langgraph-prebuilt, langgraph\n",
            "Successfully installed langgraph-0.3.2 langgraph-checkpoint-2.0.16 langgraph-prebuilt-0.1.1 langgraph-sdk-0.1.53\n"
          ]
        }
      ],
      "source": [
        "!pip install langgraph langsmith"
      ]
    },
    {
      "cell_type": "code",
      "source": [
        "!pip install langchain langchain_groq langchain_community\n"
      ],
      "metadata": {
        "colab": {
          "base_uri": "https://localhost:8080/"
        },
        "id": "upba1Ex4gi3d",
        "outputId": "5a1a3b28-7722-4029-86a9-7dfb848c3daf",
        "collapsed": true
      },
      "execution_count": null,
      "outputs": [
        {
          "output_type": "stream",
          "name": "stdout",
          "text": [
            "Requirement already satisfied: langchain in /usr/local/lib/python3.11/dist-packages (0.3.15)\n",
            "Collecting langchain_groq\n",
            "  Downloading langchain_groq-0.2.4-py3-none-any.whl.metadata (3.0 kB)\n",
            "Collecting langchain_community\n",
            "  Downloading langchain_community-0.3.18-py3-none-any.whl.metadata (2.4 kB)\n",
            "Requirement already satisfied: PyYAML>=5.3 in /usr/local/lib/python3.11/dist-packages (from langchain) (6.0.2)\n",
            "Requirement already satisfied: SQLAlchemy<3,>=1.4 in /usr/local/lib/python3.11/dist-packages (from langchain) (2.0.37)\n",
            "Requirement already satisfied: aiohttp<4.0.0,>=3.8.3 in /usr/local/lib/python3.11/dist-packages (from langchain) (3.11.11)\n",
            "Requirement already satisfied: langchain-core<0.4.0,>=0.3.31 in /usr/local/lib/python3.11/dist-packages (from langchain) (0.3.31)\n",
            "Requirement already satisfied: langchain-text-splitters<0.4.0,>=0.3.3 in /usr/local/lib/python3.11/dist-packages (from langchain) (0.3.5)\n",
            "Requirement already satisfied: langsmith<0.4,>=0.1.17 in /usr/local/lib/python3.11/dist-packages (from langchain) (0.3.1)\n",
            "Requirement already satisfied: numpy<2,>=1.22.4 in /usr/local/lib/python3.11/dist-packages (from langchain) (1.26.4)\n",
            "Requirement already satisfied: pydantic<3.0.0,>=2.7.4 in /usr/local/lib/python3.11/dist-packages (from langchain) (2.10.6)\n",
            "Requirement already satisfied: requests<3,>=2 in /usr/local/lib/python3.11/dist-packages (from langchain) (2.32.3)\n",
            "Requirement already satisfied: tenacity!=8.4.0,<10,>=8.1.0 in /usr/local/lib/python3.11/dist-packages (from langchain) (9.0.0)\n",
            "Collecting groq<1,>=0.4.1 (from langchain_groq)\n",
            "  Downloading groq-0.18.0-py3-none-any.whl.metadata (14 kB)\n",
            "Collecting langchain-core<0.4.0,>=0.3.31 (from langchain)\n",
            "  Downloading langchain_core-0.3.40-py3-none-any.whl.metadata (5.9 kB)\n",
            "Collecting langchain\n",
            "  Downloading langchain-0.3.19-py3-none-any.whl.metadata (7.9 kB)\n",
            "Collecting dataclasses-json<0.7,>=0.5.7 (from langchain_community)\n",
            "  Downloading dataclasses_json-0.6.7-py3-none-any.whl.metadata (25 kB)\n",
            "Collecting pydantic-settings<3.0.0,>=2.4.0 (from langchain_community)\n",
            "  Downloading pydantic_settings-2.8.1-py3-none-any.whl.metadata (3.5 kB)\n",
            "Collecting httpx-sse<1.0.0,>=0.4.0 (from langchain_community)\n",
            "  Downloading httpx_sse-0.4.0-py3-none-any.whl.metadata (9.0 kB)\n",
            "Collecting langchain-text-splitters<1.0.0,>=0.3.6 (from langchain)\n",
            "  Downloading langchain_text_splitters-0.3.6-py3-none-any.whl.metadata (1.9 kB)\n",
            "Requirement already satisfied: aiohappyeyeballs>=2.3.0 in /usr/local/lib/python3.11/dist-packages (from aiohttp<4.0.0,>=3.8.3->langchain) (2.4.4)\n",
            "Requirement already satisfied: aiosignal>=1.1.2 in /usr/local/lib/python3.11/dist-packages (from aiohttp<4.0.0,>=3.8.3->langchain) (1.3.2)\n",
            "Requirement already satisfied: attrs>=17.3.0 in /usr/local/lib/python3.11/dist-packages (from aiohttp<4.0.0,>=3.8.3->langchain) (24.3.0)\n",
            "Requirement already satisfied: frozenlist>=1.1.1 in /usr/local/lib/python3.11/dist-packages (from aiohttp<4.0.0,>=3.8.3->langchain) (1.5.0)\n",
            "Requirement already satisfied: multidict<7.0,>=4.5 in /usr/local/lib/python3.11/dist-packages (from aiohttp<4.0.0,>=3.8.3->langchain) (6.1.0)\n",
            "Requirement already satisfied: propcache>=0.2.0 in /usr/local/lib/python3.11/dist-packages (from aiohttp<4.0.0,>=3.8.3->langchain) (0.2.1)\n",
            "Requirement already satisfied: yarl<2.0,>=1.17.0 in /usr/local/lib/python3.11/dist-packages (from aiohttp<4.0.0,>=3.8.3->langchain) (1.18.3)\n",
            "Collecting marshmallow<4.0.0,>=3.18.0 (from dataclasses-json<0.7,>=0.5.7->langchain_community)\n",
            "  Downloading marshmallow-3.26.1-py3-none-any.whl.metadata (7.3 kB)\n",
            "Collecting typing-inspect<1,>=0.4.0 (from dataclasses-json<0.7,>=0.5.7->langchain_community)\n",
            "  Downloading typing_inspect-0.9.0-py3-none-any.whl.metadata (1.5 kB)\n",
            "Requirement already satisfied: anyio<5,>=3.5.0 in /usr/local/lib/python3.11/dist-packages (from groq<1,>=0.4.1->langchain_groq) (3.7.1)\n",
            "Requirement already satisfied: distro<2,>=1.7.0 in /usr/local/lib/python3.11/dist-packages (from groq<1,>=0.4.1->langchain_groq) (1.9.0)\n",
            "Requirement already satisfied: httpx<1,>=0.23.0 in /usr/local/lib/python3.11/dist-packages (from groq<1,>=0.4.1->langchain_groq) (0.28.1)\n",
            "Requirement already satisfied: sniffio in /usr/local/lib/python3.11/dist-packages (from groq<1,>=0.4.1->langchain_groq) (1.3.1)\n",
            "Requirement already satisfied: typing-extensions<5,>=4.10 in /usr/local/lib/python3.11/dist-packages (from groq<1,>=0.4.1->langchain_groq) (4.12.2)\n",
            "Requirement already satisfied: jsonpatch<2.0,>=1.33 in /usr/local/lib/python3.11/dist-packages (from langchain-core<0.4.0,>=0.3.31->langchain) (1.33)\n",
            "Requirement already satisfied: packaging<25,>=23.2 in /usr/local/lib/python3.11/dist-packages (from langchain-core<0.4.0,>=0.3.31->langchain) (24.2)\n",
            "Requirement already satisfied: orjson<4.0.0,>=3.9.14 in /usr/local/lib/python3.11/dist-packages (from langsmith<0.4,>=0.1.17->langchain) (3.10.15)\n",
            "Requirement already satisfied: requests-toolbelt<2.0.0,>=1.0.0 in /usr/local/lib/python3.11/dist-packages (from langsmith<0.4,>=0.1.17->langchain) (1.0.0)\n",
            "Requirement already satisfied: zstandard<0.24.0,>=0.23.0 in /usr/local/lib/python3.11/dist-packages (from langsmith<0.4,>=0.1.17->langchain) (0.23.0)\n",
            "Requirement already satisfied: annotated-types>=0.6.0 in /usr/local/lib/python3.11/dist-packages (from pydantic<3.0.0,>=2.7.4->langchain) (0.7.0)\n",
            "Requirement already satisfied: pydantic-core==2.27.2 in /usr/local/lib/python3.11/dist-packages (from pydantic<3.0.0,>=2.7.4->langchain) (2.27.2)\n",
            "Collecting python-dotenv>=0.21.0 (from pydantic-settings<3.0.0,>=2.4.0->langchain_community)\n",
            "  Downloading python_dotenv-1.0.1-py3-none-any.whl.metadata (23 kB)\n",
            "Requirement already satisfied: charset-normalizer<4,>=2 in /usr/local/lib/python3.11/dist-packages (from requests<3,>=2->langchain) (3.4.1)\n",
            "Requirement already satisfied: idna<4,>=2.5 in /usr/local/lib/python3.11/dist-packages (from requests<3,>=2->langchain) (3.10)\n",
            "Requirement already satisfied: urllib3<3,>=1.21.1 in /usr/local/lib/python3.11/dist-packages (from requests<3,>=2->langchain) (2.3.0)\n",
            "Requirement already satisfied: certifi>=2017.4.17 in /usr/local/lib/python3.11/dist-packages (from requests<3,>=2->langchain) (2024.12.14)\n",
            "Requirement already satisfied: greenlet!=0.4.17 in /usr/local/lib/python3.11/dist-packages (from SQLAlchemy<3,>=1.4->langchain) (3.1.1)\n",
            "Requirement already satisfied: httpcore==1.* in /usr/local/lib/python3.11/dist-packages (from httpx<1,>=0.23.0->groq<1,>=0.4.1->langchain_groq) (1.0.7)\n",
            "Requirement already satisfied: h11<0.15,>=0.13 in /usr/local/lib/python3.11/dist-packages (from httpcore==1.*->httpx<1,>=0.23.0->groq<1,>=0.4.1->langchain_groq) (0.14.0)\n",
            "Requirement already satisfied: jsonpointer>=1.9 in /usr/local/lib/python3.11/dist-packages (from jsonpatch<2.0,>=1.33->langchain-core<0.4.0,>=0.3.31->langchain) (3.0.0)\n",
            "Collecting mypy-extensions>=0.3.0 (from typing-inspect<1,>=0.4.0->dataclasses-json<0.7,>=0.5.7->langchain_community)\n",
            "  Downloading mypy_extensions-1.0.0-py3-none-any.whl.metadata (1.1 kB)\n",
            "Downloading langchain_groq-0.2.4-py3-none-any.whl (14 kB)\n",
            "Downloading langchain_community-0.3.18-py3-none-any.whl (2.5 MB)\n",
            "\u001b[2K   \u001b[90m━━━━━━━━━━━━━━━━━━━━━━━━━━━━━━━━━━━━━━━━\u001b[0m \u001b[32m2.5/2.5 MB\u001b[0m \u001b[31m19.0 MB/s\u001b[0m eta \u001b[36m0:00:00\u001b[0m\n",
            "\u001b[?25hDownloading langchain-0.3.19-py3-none-any.whl (1.0 MB)\n",
            "\u001b[2K   \u001b[90m━━━━━━━━━━━━━━━━━━━━━━━━━━━━━━━━━━━━━━━━\u001b[0m \u001b[32m1.0/1.0 MB\u001b[0m \u001b[31m20.9 MB/s\u001b[0m eta \u001b[36m0:00:00\u001b[0m\n",
            "\u001b[?25hDownloading dataclasses_json-0.6.7-py3-none-any.whl (28 kB)\n",
            "Downloading groq-0.18.0-py3-none-any.whl (121 kB)\n",
            "\u001b[2K   \u001b[90m━━━━━━━━━━━━━━━━━━━━━━━━━━━━━━━━━━━━━━━━\u001b[0m \u001b[32m121.9/121.9 kB\u001b[0m \u001b[31m6.9 MB/s\u001b[0m eta \u001b[36m0:00:00\u001b[0m\n",
            "\u001b[?25hDownloading httpx_sse-0.4.0-py3-none-any.whl (7.8 kB)\n",
            "Downloading langchain_core-0.3.40-py3-none-any.whl (414 kB)\n",
            "\u001b[2K   \u001b[90m━━━━━━━━━━━━━━━━━━━━━━━━━━━━━━━━━━━━━━━━\u001b[0m \u001b[32m414.3/414.3 kB\u001b[0m \u001b[31m13.3 MB/s\u001b[0m eta \u001b[36m0:00:00\u001b[0m\n",
            "\u001b[?25hDownloading langchain_text_splitters-0.3.6-py3-none-any.whl (31 kB)\n",
            "Downloading pydantic_settings-2.8.1-py3-none-any.whl (30 kB)\n",
            "Downloading marshmallow-3.26.1-py3-none-any.whl (50 kB)\n",
            "\u001b[2K   \u001b[90m━━━━━━━━━━━━━━━━━━━━━━━━━━━━━━━━━━━━━━━━\u001b[0m \u001b[32m50.9/50.9 kB\u001b[0m \u001b[31m2.5 MB/s\u001b[0m eta \u001b[36m0:00:00\u001b[0m\n",
            "\u001b[?25hDownloading python_dotenv-1.0.1-py3-none-any.whl (19 kB)\n",
            "Downloading typing_inspect-0.9.0-py3-none-any.whl (8.8 kB)\n",
            "Downloading mypy_extensions-1.0.0-py3-none-any.whl (4.7 kB)\n",
            "Installing collected packages: python-dotenv, mypy-extensions, marshmallow, httpx-sse, typing-inspect, pydantic-settings, groq, dataclasses-json, langchain-core, langchain-text-splitters, langchain_groq, langchain, langchain_community\n",
            "  Attempting uninstall: langchain-core\n",
            "    Found existing installation: langchain-core 0.3.31\n",
            "    Uninstalling langchain-core-0.3.31:\n",
            "      Successfully uninstalled langchain-core-0.3.31\n",
            "  Attempting uninstall: langchain-text-splitters\n",
            "    Found existing installation: langchain-text-splitters 0.3.5\n",
            "    Uninstalling langchain-text-splitters-0.3.5:\n",
            "      Successfully uninstalled langchain-text-splitters-0.3.5\n",
            "  Attempting uninstall: langchain\n",
            "    Found existing installation: langchain 0.3.15\n",
            "    Uninstalling langchain-0.3.15:\n",
            "      Successfully uninstalled langchain-0.3.15\n",
            "Successfully installed dataclasses-json-0.6.7 groq-0.18.0 httpx-sse-0.4.0 langchain-0.3.19 langchain-core-0.3.40 langchain-text-splitters-0.3.6 langchain_community-0.3.18 langchain_groq-0.2.4 marshmallow-3.26.1 mypy-extensions-1.0.0 pydantic-settings-2.8.1 python-dotenv-1.0.1 typing-inspect-0.9.0\n"
          ]
        }
      ]
    },
    {
      "cell_type": "code",
      "source": [
        "from google.colab import userdata\n",
        "groq_api_key = userdata.get('groq_api_key')\n",
        "langsmith = userdata.get('Langsmith_api_key')"
      ],
      "metadata": {
        "id": "WReOXwdlhAeF"
      },
      "execution_count": null,
      "outputs": []
    },
    {
      "cell_type": "code",
      "source": [
        "import os\n",
        "os.environ[\"Langsmith_api_key\"] = langsmith\n",
        "os.environ[\"LANGCHAIN_TRACING_V2\"] = \"true\"\n",
        "os.environ[\"LANGCHAIN_PROJECT\"] = \"Courselanggraph\""
      ],
      "metadata": {
        "id": "-1hZ3tGZhb8n"
      },
      "execution_count": null,
      "outputs": []
    },
    {
      "cell_type": "code",
      "source": [
        "from langchain_groq import ChatGroq"
      ],
      "metadata": {
        "id": "xcBhXNOvj5FC"
      },
      "execution_count": null,
      "outputs": []
    },
    {
      "cell_type": "code",
      "source": [
        "llm = ChatGroq(groq_api_key=groq_api_key , model_name = \"gemma2-9b-it\")\n",
        "llm"
      ],
      "metadata": {
        "colab": {
          "base_uri": "https://localhost:8080/"
        },
        "id": "hk5szjO6j_KU",
        "outputId": "d912c105-b3d6-4f99-e985-922505c7e289"
      },
      "execution_count": null,
      "outputs": [
        {
          "output_type": "execute_result",
          "data": {
            "text/plain": [
              "ChatGroq(client=<groq.resources.chat.completions.Completions object at 0x78b83ba1eed0>, async_client=<groq.resources.chat.completions.AsyncCompletions object at 0x78b83ba52e90>, model_name='gemma2-9b-it', model_kwargs={}, groq_api_key=SecretStr('**********'))"
            ]
          },
          "metadata": {},
          "execution_count": 7
        }
      ]
    },
    {
      "cell_type": "markdown",
      "source": [
        "# Start building chatbot using LangGraph"
      ],
      "metadata": {
        "id": "mpSaiOGTnLBE"
      }
    },
    {
      "cell_type": "markdown",
      "source": [
        "# ***PART 1***"
      ],
      "metadata": {
        "id": "Wi6Hhdr70Lzw"
      }
    },
    {
      "cell_type": "code",
      "source": [
        "from typing import Annotated\n",
        "from typing_extensions import TypedDict\n",
        "from  langgraph.graph import StateGraph, START,END\n",
        "from langgraph.graph.message import add_messages\n"
      ],
      "metadata": {
        "id": "PpznwNw2nIeM"
      },
      "execution_count": null,
      "outputs": []
    },
    {
      "cell_type": "code",
      "source": [
        "class State(TypedDict):# messages have type \"list\" .`add_messages` function in the annotation defines how this state key should be updated (in this case , it appends messages to the list , rather than overwriting them  )\n",
        "  messages:Annotated[list , add_messages]\n",
        "graph_builder = StateGraph(State)\n"
      ],
      "metadata": {
        "id": "OyptA-NwogZl"
      },
      "execution_count": null,
      "outputs": []
    },
    {
      "cell_type": "code",
      "source": [
        "graph_builder"
      ],
      "metadata": {
        "colab": {
          "base_uri": "https://localhost:8080/"
        },
        "id": "k1nQOMe8qkZB",
        "outputId": "8753eb37-14b3-4193-85d8-0b513367ee9b"
      },
      "execution_count": null,
      "outputs": [
        {
          "output_type": "execute_result",
          "data": {
            "text/plain": [
              "<langgraph.graph.state.StateGraph at 0x78b83b978650>"
            ]
          },
          "metadata": {},
          "execution_count": 10
        }
      ]
    },
    {
      "cell_type": "code",
      "source": [
        "def chatbot(state:State):\n",
        "  return{\"messages\":llm.invoke(state['messages'])}"
      ],
      "metadata": {
        "id": "nkWs53KYqnRX"
      },
      "execution_count": null,
      "outputs": []
    },
    {
      "cell_type": "code",
      "source": [
        "graph_builder.add_node(\"ChatBot\", chatbot)"
      ],
      "metadata": {
        "colab": {
          "base_uri": "https://localhost:8080/"
        },
        "id": "rpdq8ouVrGdg",
        "outputId": "4b0ee71e-736b-4a12-9970-d6271b4c7165"
      },
      "execution_count": null,
      "outputs": [
        {
          "output_type": "execute_result",
          "data": {
            "text/plain": [
              "<langgraph.graph.state.StateGraph at 0x78b83b978650>"
            ]
          },
          "metadata": {},
          "execution_count": 12
        }
      ]
    },
    {
      "cell_type": "code",
      "source": [
        "graph_builder"
      ],
      "metadata": {
        "colab": {
          "base_uri": "https://localhost:8080/"
        },
        "id": "FNKIV7L1rKq7",
        "outputId": "7eae03a2-fd1f-4e83-92e9-28670bbaa4b8"
      },
      "execution_count": null,
      "outputs": [
        {
          "output_type": "execute_result",
          "data": {
            "text/plain": [
              "<langgraph.graph.state.StateGraph at 0x78b83b978650>"
            ]
          },
          "metadata": {},
          "execution_count": 13
        }
      ]
    },
    {
      "cell_type": "code",
      "source": [
        "graph_builder.add_edge(START,\"ChatBot\")\n",
        "graph_builder.add_edge(\"ChatBot\",END)"
      ],
      "metadata": {
        "colab": {
          "base_uri": "https://localhost:8080/"
        },
        "id": "fEGYsu2irTEJ",
        "outputId": "02a2e094-393c-4b87-a18e-35bb30cfa9d7"
      },
      "execution_count": null,
      "outputs": [
        {
          "output_type": "execute_result",
          "data": {
            "text/plain": [
              "<langgraph.graph.state.StateGraph at 0x78b83b978650>"
            ]
          },
          "metadata": {},
          "execution_count": 14
        }
      ]
    },
    {
      "cell_type": "code",
      "source": [
        "graph = graph_builder.compile()"
      ],
      "metadata": {
        "id": "lTHJgTnwrzFZ"
      },
      "execution_count": null,
      "outputs": []
    },
    {
      "cell_type": "code",
      "source": [
        "from IPython.display import Image, display\n",
        "try:\n",
        "    display(Image(graph.get_graph().draw_mermaid_png()))\n",
        "except Exception:\n",
        "    pass\n"
      ],
      "metadata": {
        "colab": {
          "base_uri": "https://localhost:8080/",
          "height": 251
        },
        "id": "b9cqX-mor_h6",
        "outputId": "74e42f9b-0f01-4401-e007-f8340b5142cf"
      },
      "execution_count": null,
      "outputs": [
        {
          "output_type": "display_data",
          "data": {
            "image/png": "[encoded data removed]",
            "text/plain": [
              "<IPython.core.display.Image object>"
            ]
          },
          "metadata": {}
        }
      ]
    },
    {
      "cell_type": "code",
      "source": [
        "while True:\n",
        "  user_input = input(\"User: \")\n",
        "  if  user_input.lower()in [\"quit\",\"q\"]:\n",
        "    print(\"Good Bye\")\n",
        "    break\n",
        "  for event in graph.stream({'messages':(\"user\",user_input)}):\n",
        "    print(event.values())\n",
        "    for value in event.values():\n",
        "      print(value['messages'])\n",
        "      print('Assistant:', value[\"messages\"].content)"
      ],
      "metadata": {
        "colab": {
          "base_uri": "https://localhost:8080/"
        },
        "id": "GHLbjYNgswbs",
        "outputId": "6d0c5f8c-164a-45df-bf7e-13f535dcbbc7"
      },
      "execution_count": null,
      "outputs": [
        {
          "name": "stdout",
          "output_type": "stream",
          "text": [
            "User: hello!!!\n"
          ]
        },
        {
          "output_type": "stream",
          "name": "stderr",
          "text": [
            "/usr/local/lib/python3.11/dist-packages/langsmith/client.py:253: LangSmithMissingAPIKeyWarning: API key must be provided when using hosted LangSmith API\n",
            "  warnings.warn(\n"
          ]
        },
        {
          "output_type": "stream",
          "name": "stdout",
          "text": [
            "dict_values([{'messages': AIMessage(content='Hello! 👋  What can I do for you today? 😊\\n', additional_kwargs={}, response_metadata={'token_usage': {'completion_tokens': 16, 'prompt_tokens': 11, 'total_tokens': 27, 'completion_time': 0.029090909, 'prompt_time': 0.001915526, 'queue_time': 0.10065752, 'total_time': 0.031006435}, 'model_name': 'gemma2-9b-it', 'system_fingerprint': 'fp_10c08bf97d', 'finish_reason': 'stop', 'logprobs': None}, id='run-9e56a25a-bb32-461b-bd49-19d48ca15469-0', usage_metadata={'input_tokens': 11, 'output_tokens': 16, 'total_tokens': 27})}])\n",
            "content='Hello! 👋  What can I do for you today? 😊\\n' additional_kwargs={} response_metadata={'token_usage': {'completion_tokens': 16, 'prompt_tokens': 11, 'total_tokens': 27, 'completion_time': 0.029090909, 'prompt_time': 0.001915526, 'queue_time': 0.10065752, 'total_time': 0.031006435}, 'model_name': 'gemma2-9b-it', 'system_fingerprint': 'fp_10c08bf97d', 'finish_reason': 'stop', 'logprobs': None} id='run-9e56a25a-bb32-461b-bd49-19d48ca15469-0' usage_metadata={'input_tokens': 11, 'output_tokens': 16, 'total_tokens': 27}\n",
            "Assistant: Hello! 👋  What can I do for you today? 😊\n",
            "\n"
          ]
        },
        {
          "output_type": "stream",
          "name": "stderr",
          "text": [
            "WARNING:langsmith.client:Failed to send compressed multipart ingest: langsmith.utils.LangSmithAuthError: Authentication failed for https://api.smith.langchain.com/runs/multipart. HTTPError('401 Client Error: Unauthorized for url: https://api.smith.langchain.com/runs/multipart', '{\"error\":\"Unauthorized\"}\\n')\n"
          ]
        },
        {
          "name": "stdout",
          "output_type": "stream",
          "text": [
            "User: can you give me a roadmap for learning gen Ai?\n"
          ]
        },
        {
          "output_type": "stream",
          "name": "stderr",
          "text": [
            "WARNING:langsmith.client:Failed to send compressed multipart ingest: langsmith.utils.LangSmithAuthError: Authentication failed for https://api.smith.langchain.com/runs/multipart. HTTPError('401 Client Error: Unauthorized for url: https://api.smith.langchain.com/runs/multipart', '{\"error\":\"Unauthorized\"}\\n')\n"
          ]
        },
        {
          "output_type": "stream",
          "name": "stdout",
          "text": [
            "dict_values([{'messages': AIMessage(content='## Roadmap for Learning Generative AI\\n\\nThis roadmap provides a structured path to understanding and working with Generative AI.  \\n\\n**I. Foundations (2-4 weeks)**\\n\\n* **Machine Learning Basics:**\\n    * Understand supervised, unsupervised, and reinforcement learning.\\n    * Learn about common algorithms: linear regression, logistic regression, decision trees, support vector machines, k-nearest neighbors.\\n    * Get familiar with evaluation metrics: accuracy, precision, recall, F1-score.\\n* **Deep Learning Fundamentals:**\\n    * Grasp the concepts of artificial neural networks (ANNs), layers, activation functions, backpropagation.\\n    * Learn about popular deep learning architectures: convolutional neural networks (CNNs), recurrent neural networks (RNNs), transformer networks.\\n    * Explore deep learning frameworks like TensorFlow or PyTorch.\\n* **Python Programming:**\\n    * Master the basics of Python syntax, data structures, and libraries essential for machine learning (NumPy, Pandas, Matplotlib).\\n\\n**Resources:**\\n\\n* **Online Courses:**\\n    * Andrew Ng\\'s Machine Learning on Coursera\\n    * Deep Learning Specialization by Andrew Ng on Coursera\\n    * fast.ai\\'s Practical Deep Learning for Coders\\n* **Books:**\\n    * \"Hands-On Machine Learning with Scikit-Learn, Keras & TensorFlow\" by Aurélien Géron\\n    * \"Deep Learning\" by Ian Goodfellow, Yoshua Bengio, and Aaron Courville\\n\\n**II. Generative AI Concepts (2-4 weeks)**\\n\\n* **Generative Models:**\\n    * Understand the difference between discriminative and generative models.\\n    * Learn about generative models like:\\n        * Variational Autoencoders (VAEs)\\n        * Generative Adversarial Networks (GANs)\\n        * Diffusion Models\\n* **Text Generation:**\\n    * Explore language modeling techniques and architectures like RNNs (LSTMs, GRUs) and Transformers (BERT, GPT).\\n    * Learn about text generation tasks: machine translation, text summarization, dialogue systems.\\n* **Image Generation:**\\n    * Dive into image generation techniques using GANs, VAEs, and diffusion models.\\n    * Understand image datasets and evaluation metrics for image generation.\\n\\n**Resources:**\\n\\n* **Online Courses:**\\n    * Generative Deep Learning Specialization by DeepLearning.AI\\n    * Stanford CS231n: Convolutional Neural Networks for Visual Recognition\\n* **Papers:**\\n    * \"Generative Adversarial Networks\" by Ian Goodfellow et al.\\n    * \"Auto-Encoding Variational Bayes\" by Diederik P. Kingma and Max Welling\\n    * \"Denoising Diffusion Probabilistic Models\" by Jonathan Ho et al.\\n\\n**III. Practical Application (Ongoing)**\\n\\n* **Build Projects:**\\n    * Choose a project that interests you and apply your knowledge of generative AI.\\n    * Examples:\\n        * Generate realistic images using GANs.\\n        * Create a chatbot using Transformer models.\\n        * Summarize text documents using RNNs.\\n* **Explore Open-Source Tools:**\\n    * Familiarize yourself with popular generative AI libraries and frameworks:\\n        * OpenAI\\'s GPT-3 and DALL-E\\n        * HuggingFace Transformers\\n        * TensorFlow Hub\\n* **Stay Updated:**\\n    * The field of generative AI is rapidly evolving.\\n    * Follow research papers, blogs, and communities to keep learning and exploring new advancements.\\n\\n**Resources:**\\n\\n* **GitHub:** Search for generative AI projects and contribute to open-source initiatives.\\n* **Kaggle:** Participate in competitions and learn from other data scientists\\' solutions.\\n* **AI Conferences and Workshops:** Attend events to network and learn about the latest research.\\n\\n**Remember:**\\n\\n* **Start with the basics and build gradually.** \\n* **Practice consistently.**\\n* **Don\\'t be afraid to experiment and make mistakes.**\\n* **Enjoy the learning process!**\\n\\n\\n', additional_kwargs={}, response_metadata={'token_usage': {'completion_tokens': 830, 'prompt_tokens': 20, 'total_tokens': 850, 'completion_time': 1.509090909, 'prompt_time': 0.001904296, 'queue_time': 0.082810174, 'total_time': 1.510995205}, 'model_name': 'gemma2-9b-it', 'system_fingerprint': 'fp_10c08bf97d', 'finish_reason': 'stop', 'logprobs': None}, id='run-1a921ac7-5ff1-4b9a-96bf-8638e2c1f519-0', usage_metadata={'input_tokens': 20, 'output_tokens': 830, 'total_tokens': 850})}])\n",
            "content='## Roadmap for Learning Generative AI\\n\\nThis roadmap provides a structured path to understanding and working with Generative AI.  \\n\\n**I. Foundations (2-4 weeks)**\\n\\n* **Machine Learning Basics:**\\n    * Understand supervised, unsupervised, and reinforcement learning.\\n    * Learn about common algorithms: linear regression, logistic regression, decision trees, support vector machines, k-nearest neighbors.\\n    * Get familiar with evaluation metrics: accuracy, precision, recall, F1-score.\\n* **Deep Learning Fundamentals:**\\n    * Grasp the concepts of artificial neural networks (ANNs), layers, activation functions, backpropagation.\\n    * Learn about popular deep learning architectures: convolutional neural networks (CNNs), recurrent neural networks (RNNs), transformer networks.\\n    * Explore deep learning frameworks like TensorFlow or PyTorch.\\n* **Python Programming:**\\n    * Master the basics of Python syntax, data structures, and libraries essential for machine learning (NumPy, Pandas, Matplotlib).\\n\\n**Resources:**\\n\\n* **Online Courses:**\\n    * Andrew Ng\\'s Machine Learning on Coursera\\n    * Deep Learning Specialization by Andrew Ng on Coursera\\n    * fast.ai\\'s Practical Deep Learning for Coders\\n* **Books:**\\n    * \"Hands-On Machine Learning with Scikit-Learn, Keras & TensorFlow\" by Aurélien Géron\\n    * \"Deep Learning\" by Ian Goodfellow, Yoshua Bengio, and Aaron Courville\\n\\n**II. Generative AI Concepts (2-4 weeks)**\\n\\n* **Generative Models:**\\n    * Understand the difference between discriminative and generative models.\\n    * Learn about generative models like:\\n        * Variational Autoencoders (VAEs)\\n        * Generative Adversarial Networks (GANs)\\n        * Diffusion Models\\n* **Text Generation:**\\n    * Explore language modeling techniques and architectures like RNNs (LSTMs, GRUs) and Transformers (BERT, GPT).\\n    * Learn about text generation tasks: machine translation, text summarization, dialogue systems.\\n* **Image Generation:**\\n    * Dive into image generation techniques using GANs, VAEs, and diffusion models.\\n    * Understand image datasets and evaluation metrics for image generation.\\n\\n**Resources:**\\n\\n* **Online Courses:**\\n    * Generative Deep Learning Specialization by DeepLearning.AI\\n    * Stanford CS231n: Convolutional Neural Networks for Visual Recognition\\n* **Papers:**\\n    * \"Generative Adversarial Networks\" by Ian Goodfellow et al.\\n    * \"Auto-Encoding Variational Bayes\" by Diederik P. Kingma and Max Welling\\n    * \"Denoising Diffusion Probabilistic Models\" by Jonathan Ho et al.\\n\\n**III. Practical Application (Ongoing)**\\n\\n* **Build Projects:**\\n    * Choose a project that interests you and apply your knowledge of generative AI.\\n    * Examples:\\n        * Generate realistic images using GANs.\\n        * Create a chatbot using Transformer models.\\n        * Summarize text documents using RNNs.\\n* **Explore Open-Source Tools:**\\n    * Familiarize yourself with popular generative AI libraries and frameworks:\\n        * OpenAI\\'s GPT-3 and DALL-E\\n        * HuggingFace Transformers\\n        * TensorFlow Hub\\n* **Stay Updated:**\\n    * The field of generative AI is rapidly evolving.\\n    * Follow research papers, blogs, and communities to keep learning and exploring new advancements.\\n\\n**Resources:**\\n\\n* **GitHub:** Search for generative AI projects and contribute to open-source initiatives.\\n* **Kaggle:** Participate in competitions and learn from other data scientists\\' solutions.\\n* **AI Conferences and Workshops:** Attend events to network and learn about the latest research.\\n\\n**Remember:**\\n\\n* **Start with the basics and build gradually.** \\n* **Practice consistently.**\\n* **Don\\'t be afraid to experiment and make mistakes.**\\n* **Enjoy the learning process!**\\n\\n\\n' additional_kwargs={} response_metadata={'token_usage': {'completion_tokens': 830, 'prompt_tokens': 20, 'total_tokens': 850, 'completion_time': 1.509090909, 'prompt_time': 0.001904296, 'queue_time': 0.082810174, 'total_time': 1.510995205}, 'model_name': 'gemma2-9b-it', 'system_fingerprint': 'fp_10c08bf97d', 'finish_reason': 'stop', 'logprobs': None} id='run-1a921ac7-5ff1-4b9a-96bf-8638e2c1f519-0' usage_metadata={'input_tokens': 20, 'output_tokens': 830, 'total_tokens': 850}\n",
            "Assistant: ## Roadmap for Learning Generative AI\n",
            "\n",
            "This roadmap provides a structured path to understanding and working with Generative AI.  \n",
            "\n",
            "**I. Foundations (2-4 weeks)**\n",
            "\n",
            "* **Machine Learning Basics:**\n",
            "    * Understand supervised, unsupervised, and reinforcement learning.\n",
            "    * Learn about common algorithms: linear regression, logistic regression, decision trees, support vector machines, k-nearest neighbors.\n",
            "    * Get familiar with evaluation metrics: accuracy, precision, recall, F1-score.\n",
            "* **Deep Learning Fundamentals:**\n",
            "    * Grasp the concepts of artificial neural networks (ANNs), layers, activation functions, backpropagation.\n",
            "    * Learn about popular deep learning architectures: convolutional neural networks (CNNs), recurrent neural networks (RNNs), transformer networks.\n",
            "    * Explore deep learning frameworks like TensorFlow or PyTorch.\n",
            "* **Python Programming:**\n",
            "    * Master the basics of Python syntax, data structures, and libraries essential for machine learning (NumPy, Pandas, Matplotlib).\n",
            "\n",
            "**Resources:**\n",
            "\n",
            "* **Online Courses:**\n",
            "    * Andrew Ng's Machine Learning on Coursera\n",
            "    * Deep Learning Specialization by Andrew Ng on Coursera\n",
            "    * fast.ai's Practical Deep Learning for Coders\n",
            "* **Books:**\n",
            "    * \"Hands-On Machine Learning with Scikit-Learn, Keras & TensorFlow\" by Aurélien Géron\n",
            "    * \"Deep Learning\" by Ian Goodfellow, Yoshua Bengio, and Aaron Courville\n",
            "\n",
            "**II. Generative AI Concepts (2-4 weeks)**\n",
            "\n",
            "* **Generative Models:**\n",
            "    * Understand the difference between discriminative and generative models.\n",
            "    * Learn about generative models like:\n",
            "        * Variational Autoencoders (VAEs)\n",
            "        * Generative Adversarial Networks (GANs)\n",
            "        * Diffusion Models\n",
            "* **Text Generation:**\n",
            "    * Explore language modeling techniques and architectures like RNNs (LSTMs, GRUs) and Transformers (BERT, GPT).\n",
            "    * Learn about text generation tasks: machine translation, text summarization, dialogue systems.\n",
            "* **Image Generation:**\n",
            "    * Dive into image generation techniques using GANs, VAEs, and diffusion models.\n",
            "    * Understand image datasets and evaluation metrics for image generation.\n",
            "\n",
            "**Resources:**\n",
            "\n",
            "* **Online Courses:**\n",
            "    * Generative Deep Learning Specialization by DeepLearning.AI\n",
            "    * Stanford CS231n: Convolutional Neural Networks for Visual Recognition\n",
            "* **Papers:**\n",
            "    * \"Generative Adversarial Networks\" by Ian Goodfellow et al.\n",
            "    * \"Auto-Encoding Variational Bayes\" by Diederik P. Kingma and Max Welling\n",
            "    * \"Denoising Diffusion Probabilistic Models\" by Jonathan Ho et al.\n",
            "\n",
            "**III. Practical Application (Ongoing)**\n",
            "\n",
            "* **Build Projects:**\n",
            "    * Choose a project that interests you and apply your knowledge of generative AI.\n",
            "    * Examples:\n",
            "        * Generate realistic images using GANs.\n",
            "        * Create a chatbot using Transformer models.\n",
            "        * Summarize text documents using RNNs.\n",
            "* **Explore Open-Source Tools:**\n",
            "    * Familiarize yourself with popular generative AI libraries and frameworks:\n",
            "        * OpenAI's GPT-3 and DALL-E\n",
            "        * HuggingFace Transformers\n",
            "        * TensorFlow Hub\n",
            "* **Stay Updated:**\n",
            "    * The field of generative AI is rapidly evolving.\n",
            "    * Follow research papers, blogs, and communities to keep learning and exploring new advancements.\n",
            "\n",
            "**Resources:**\n",
            "\n",
            "* **GitHub:** Search for generative AI projects and contribute to open-source initiatives.\n",
            "* **Kaggle:** Participate in competitions and learn from other data scientists' solutions.\n",
            "* **AI Conferences and Workshops:** Attend events to network and learn about the latest research.\n",
            "\n",
            "**Remember:**\n",
            "\n",
            "* **Start with the basics and build gradually.** \n",
            "* **Practice consistently.**\n",
            "* **Don't be afraid to experiment and make mistakes.**\n",
            "* **Enjoy the learning process!**\n",
            "\n",
            "\n",
            "\n"
          ]
        },
        {
          "output_type": "stream",
          "name": "stderr",
          "text": [
            "WARNING:langsmith.client:Failed to send compressed multipart ingest: langsmith.utils.LangSmithAuthError: Authentication failed for https://api.smith.langchain.com/runs/multipart. HTTPError('401 Client Error: Unauthorized for url: https://api.smith.langchain.com/runs/multipart', '{\"error\":\"Unauthorized\"}\\n')\n"
          ]
        },
        {
          "output_type": "stream",
          "name": "stdout",
          "text": [
            "User: thanks\n",
            "dict_values([{'messages': AIMessage(content=\"You're welcome! Is there anything else I can help you with? 😊\\n\", additional_kwargs={}, response_metadata={'token_usage': {'completion_tokens': 19, 'prompt_tokens': 11, 'total_tokens': 30, 'completion_time': 0.034545455, 'prompt_time': 0.001928186, 'queue_time': 0.137302921, 'total_time': 0.036473641}, 'model_name': 'gemma2-9b-it', 'system_fingerprint': 'fp_10c08bf97d', 'finish_reason': 'stop', 'logprobs': None}, id='run-a119d7a0-2f60-41e9-8ee3-1b416166bb6b-0', usage_metadata={'input_tokens': 11, 'output_tokens': 19, 'total_tokens': 30})}])\n",
            "content=\"You're welcome! Is there anything else I can help you with? 😊\\n\" additional_kwargs={} response_metadata={'token_usage': {'completion_tokens': 19, 'prompt_tokens': 11, 'total_tokens': 30, 'completion_time': 0.034545455, 'prompt_time': 0.001928186, 'queue_time': 0.137302921, 'total_time': 0.036473641}, 'model_name': 'gemma2-9b-it', 'system_fingerprint': 'fp_10c08bf97d', 'finish_reason': 'stop', 'logprobs': None} id='run-a119d7a0-2f60-41e9-8ee3-1b416166bb6b-0' usage_metadata={'input_tokens': 11, 'output_tokens': 19, 'total_tokens': 30}\n",
            "Assistant: You're welcome! Is there anything else I can help you with? 😊\n",
            "\n"
          ]
        },
        {
          "output_type": "stream",
          "name": "stderr",
          "text": [
            "WARNING:langsmith.client:Failed to send compressed multipart ingest: langsmith.utils.LangSmithAuthError: Authentication failed for https://api.smith.langchain.com/runs/multipart. HTTPError('401 Client Error: Unauthorized for url: https://api.smith.langchain.com/runs/multipart', '{\"error\":\"Unauthorized\"}\\n')\n"
          ]
        },
        {
          "name": "stdout",
          "output_type": "stream",
          "text": [
            "User: can you help me writing a code for sum of array elements\n"
          ]
        },
        {
          "output_type": "stream",
          "name": "stderr",
          "text": [
            "WARNING:langsmith.client:Failed to send compressed multipart ingest: langsmith.utils.LangSmithAuthError: Authentication failed for https://api.smith.langchain.com/runs/multipart. HTTPError('401 Client Error: Unauthorized for url: https://api.smith.langchain.com/runs/multipart', '{\"error\":\"Unauthorized\"}\\n')\n"
          ]
        },
        {
          "output_type": "stream",
          "name": "stdout",
          "text": [
            "dict_values([{'messages': AIMessage(content='```python\\ndef sum_array(arr):\\n  \"\"\"\\n  Calculates the sum of all elements in an array.\\n\\n  Args:\\n    arr: A list of numbers.\\n\\n  Returns:\\n    The sum of all elements in the array.\\n  \"\"\"\\n  total = 0\\n  for num in arr:\\n    total += num\\n  return total\\n\\n# Example usage\\nnumbers = [1, 2, 3, 4, 5]\\nsum_of_numbers = sum_array(numbers)\\nprint(f\"The sum of the array is: {sum_of_numbers}\")\\n```\\n\\n**Explanation:**\\n\\n1. **Function Definition:**\\n   - `def sum_array(arr):` defines a function called `sum_array` that takes one argument, `arr`, which is the array we want to sum.\\n\\n2. **Initialization:**\\n   - `total = 0`: We start with a variable `total` initialized to 0. This will store the running sum of the array elements.\\n\\n3. **Looping through the Array:**\\n   - `for num in arr:` iterates through each element (`num`) in the array `arr`.\\n\\n4. **Accumulating the Sum:**\\n   - `total += num`: Inside the loop, for each element `num`, we add it to the `total` variable, accumulating the sum.\\n\\n5. **Returning the Sum:**\\n   - `return total`: After processing all elements, the function returns the final `total`, which represents the sum of all elements in the array.\\n\\n6. **Example Usage:**\\n   - `numbers = [1, 2, 3, 4, 5]`: We create a sample array named `numbers`.\\n   - `sum_of_numbers = sum_array(numbers)`: We call the `sum_array` function, passing in our `numbers` array, and store the returned sum in the `sum_of_numbers` variable.\\n   - `print(f\"The sum of the array is: {sum_of_numbers}\")`: We print the result using an f-string to nicely display the calculated sum.\\n\\n\\n\\nLet me know if you have any other questions or would like to explore different ways to calculate the sum of array elements!\\n', additional_kwargs={}, response_metadata={'token_usage': {'completion_tokens': 492, 'prompt_tokens': 21, 'total_tokens': 513, 'completion_time': 0.894545455, 'prompt_time': 0.002134255, 'queue_time': 0.119664592, 'total_time': 0.89667971}, 'model_name': 'gemma2-9b-it', 'system_fingerprint': 'fp_10c08bf97d', 'finish_reason': 'stop', 'logprobs': None}, id='run-2f8968ff-6a12-4d53-905f-971c1a320fc3-0', usage_metadata={'input_tokens': 21, 'output_tokens': 492, 'total_tokens': 513})}])\n",
            "content='```python\\ndef sum_array(arr):\\n  \"\"\"\\n  Calculates the sum of all elements in an array.\\n\\n  Args:\\n    arr: A list of numbers.\\n\\n  Returns:\\n    The sum of all elements in the array.\\n  \"\"\"\\n  total = 0\\n  for num in arr:\\n    total += num\\n  return total\\n\\n# Example usage\\nnumbers = [1, 2, 3, 4, 5]\\nsum_of_numbers = sum_array(numbers)\\nprint(f\"The sum of the array is: {sum_of_numbers}\")\\n```\\n\\n**Explanation:**\\n\\n1. **Function Definition:**\\n   - `def sum_array(arr):` defines a function called `sum_array` that takes one argument, `arr`, which is the array we want to sum.\\n\\n2. **Initialization:**\\n   - `total = 0`: We start with a variable `total` initialized to 0. This will store the running sum of the array elements.\\n\\n3. **Looping through the Array:**\\n   - `for num in arr:` iterates through each element (`num`) in the array `arr`.\\n\\n4. **Accumulating the Sum:**\\n   - `total += num`: Inside the loop, for each element `num`, we add it to the `total` variable, accumulating the sum.\\n\\n5. **Returning the Sum:**\\n   - `return total`: After processing all elements, the function returns the final `total`, which represents the sum of all elements in the array.\\n\\n6. **Example Usage:**\\n   - `numbers = [1, 2, 3, 4, 5]`: We create a sample array named `numbers`.\\n   - `sum_of_numbers = sum_array(numbers)`: We call the `sum_array` function, passing in our `numbers` array, and store the returned sum in the `sum_of_numbers` variable.\\n   - `print(f\"The sum of the array is: {sum_of_numbers}\")`: We print the result using an f-string to nicely display the calculated sum.\\n\\n\\n\\nLet me know if you have any other questions or would like to explore different ways to calculate the sum of array elements!\\n' additional_kwargs={} response_metadata={'token_usage': {'completion_tokens': 492, 'prompt_tokens': 21, 'total_tokens': 513, 'completion_time': 0.894545455, 'prompt_time': 0.002134255, 'queue_time': 0.119664592, 'total_time': 0.89667971}, 'model_name': 'gemma2-9b-it', 'system_fingerprint': 'fp_10c08bf97d', 'finish_reason': 'stop', 'logprobs': None} id='run-2f8968ff-6a12-4d53-905f-971c1a320fc3-0' usage_metadata={'input_tokens': 21, 'output_tokens': 492, 'total_tokens': 513}\n",
            "Assistant: ```python\n",
            "def sum_array(arr):\n",
            "  \"\"\"\n",
            "  Calculates the sum of all elements in an array.\n",
            "\n",
            "  Args:\n",
            "    arr: A list of numbers.\n",
            "\n",
            "  Returns:\n",
            "    The sum of all elements in the array.\n",
            "  \"\"\"\n",
            "  total = 0\n",
            "  for num in arr:\n",
            "    total += num\n",
            "  return total\n",
            "\n",
            "# Example usage\n",
            "numbers = [1, 2, 3, 4, 5]\n",
            "sum_of_numbers = sum_array(numbers)\n",
            "print(f\"The sum of the array is: {sum_of_numbers}\")\n",
            "```\n",
            "\n",
            "**Explanation:**\n",
            "\n",
            "1. **Function Definition:**\n",
            "   - `def sum_array(arr):` defines a function called `sum_array` that takes one argument, `arr`, which is the array we want to sum.\n",
            "\n",
            "2. **Initialization:**\n",
            "   - `total = 0`: We start with a variable `total` initialized to 0. This will store the running sum of the array elements.\n",
            "\n",
            "3. **Looping through the Array:**\n",
            "   - `for num in arr:` iterates through each element (`num`) in the array `arr`.\n",
            "\n",
            "4. **Accumulating the Sum:**\n",
            "   - `total += num`: Inside the loop, for each element `num`, we add it to the `total` variable, accumulating the sum.\n",
            "\n",
            "5. **Returning the Sum:**\n",
            "   - `return total`: After processing all elements, the function returns the final `total`, which represents the sum of all elements in the array.\n",
            "\n",
            "6. **Example Usage:**\n",
            "   - `numbers = [1, 2, 3, 4, 5]`: We create a sample array named `numbers`.\n",
            "   - `sum_of_numbers = sum_array(numbers)`: We call the `sum_array` function, passing in our `numbers` array, and store the returned sum in the `sum_of_numbers` variable.\n",
            "   - `print(f\"The sum of the array is: {sum_of_numbers}\")`: We print the result using an f-string to nicely display the calculated sum.\n",
            "\n",
            "\n",
            "\n",
            "Let me know if you have any other questions or would like to explore different ways to calculate the sum of array elements!\n",
            "\n"
          ]
        },
        {
          "output_type": "stream",
          "name": "stderr",
          "text": [
            "WARNING:langsmith.client:Failed to send compressed multipart ingest: langsmith.utils.LangSmithAuthError: Authentication failed for https://api.smith.langchain.com/runs/multipart. HTTPError('401 Client Error: Unauthorized for url: https://api.smith.langchain.com/runs/multipart', '{\"error\":\"Unauthorized\"}\\n')\n"
          ]
        },
        {
          "output_type": "stream",
          "name": "stdout",
          "text": [
            "User: in python\n",
            "dict_values([{'messages': AIMessage(content='Please provide me with the task or problem you want to solve in Python. \\n\\nFor example, you could ask:\\n\\n* \"Write a Python function to calculate the factorial of a number.\"\\n* \"How do I read a CSV file in Python?\"\\n* \"Can you help me create a simple web server in Python?\"\\n\\nThe more specific you are, the better I can assist you.\\n', additional_kwargs={}, response_metadata={'token_usage': {'completion_tokens': 84, 'prompt_tokens': 11, 'total_tokens': 95, 'completion_time': 0.152727273, 'prompt_time': 0.001912365, 'queue_time': 0.066116858, 'total_time': 0.154639638}, 'model_name': 'gemma2-9b-it', 'system_fingerprint': 'fp_10c08bf97d', 'finish_reason': 'stop', 'logprobs': None}, id='run-e7310107-2363-49d5-9549-c09921bbd030-0', usage_metadata={'input_tokens': 11, 'output_tokens': 84, 'total_tokens': 95})}])\n",
            "content='Please provide me with the task or problem you want to solve in Python. \\n\\nFor example, you could ask:\\n\\n* \"Write a Python function to calculate the factorial of a number.\"\\n* \"How do I read a CSV file in Python?\"\\n* \"Can you help me create a simple web server in Python?\"\\n\\nThe more specific you are, the better I can assist you.\\n' additional_kwargs={} response_metadata={'token_usage': {'completion_tokens': 84, 'prompt_tokens': 11, 'total_tokens': 95, 'completion_time': 0.152727273, 'prompt_time': 0.001912365, 'queue_time': 0.066116858, 'total_time': 0.154639638}, 'model_name': 'gemma2-9b-it', 'system_fingerprint': 'fp_10c08bf97d', 'finish_reason': 'stop', 'logprobs': None} id='run-e7310107-2363-49d5-9549-c09921bbd030-0' usage_metadata={'input_tokens': 11, 'output_tokens': 84, 'total_tokens': 95}\n",
            "Assistant: Please provide me with the task or problem you want to solve in Python. \n",
            "\n",
            "For example, you could ask:\n",
            "\n",
            "* \"Write a Python function to calculate the factorial of a number.\"\n",
            "* \"How do I read a CSV file in Python?\"\n",
            "* \"Can you help me create a simple web server in Python?\"\n",
            "\n",
            "The more specific you are, the better I can assist you.\n",
            "\n"
          ]
        },
        {
          "output_type": "stream",
          "name": "stderr",
          "text": [
            "WARNING:langsmith.client:Failed to send compressed multipart ingest: langsmith.utils.LangSmithAuthError: Authentication failed for https://api.smith.langchain.com/runs/multipart. HTTPError('401 Client Error: Unauthorized for url: https://api.smith.langchain.com/runs/multipart', '{\"error\":\"Unauthorized\"}\\n')\n"
          ]
        },
        {
          "name": "stdout",
          "output_type": "stream",
          "text": [
            "User: can you help me writing a code for sum of array elements in python language\n"
          ]
        },
        {
          "output_type": "stream",
          "name": "stderr",
          "text": [
            "WARNING:langsmith.client:Failed to send compressed multipart ingest: langsmith.utils.LangSmithAuthError: Authentication failed for https://api.smith.langchain.com/runs/multipart. HTTPError('401 Client Error: Unauthorized for url: https://api.smith.langchain.com/runs/multipart', '{\"error\":\"Unauthorized\"}\\n')\n"
          ]
        },
        {
          "output_type": "stream",
          "name": "stdout",
          "text": [
            "dict_values([{'messages': AIMessage(content='```python\\ndef sum_array(array):\\n  \"\"\"Calculates the sum of all elements in an array.\\n\\n  Args:\\n    array: A list of numbers.\\n\\n  Returns:\\n    The sum of all elements in the array.\\n  \"\"\"\\n  total = 0  \\n  for number in array:\\n    total += number\\n  return total\\n\\n# Example usage\\nnumbers = [1, 2, 3, 4, 5]\\nsum_of_numbers = sum_array(numbers)\\nprint(f\"The sum of the array is: {sum_of_numbers}\") \\n```\\n\\n**Explanation:**\\n\\n1. **Function Definition:**\\n   - `def sum_array(array):` defines a function named `sum_array` that takes one argument, `array`, which is expected to be a list of numbers.\\n\\n2. **Initialization:**\\n   - `total = 0`:  A variable `total` is initialized to 0. This variable will store the running sum of the array elements.\\n\\n3. **Looping Through the Array:**\\n   - `for number in array:`: This loop iterates through each element (`number`) in the input `array`.\\n\\n4. **Accumulating the Sum:**\\n   - `total += number`: Inside the loop, the current `number` is added to the `total` variable. This effectively accumulates the sum of all elements encountered so far.\\n\\n5. **Returning the Sum:**\\n   - `return total`: After the loop has processed all elements, the function returns the final `total`, which represents the sum of the array.\\n\\n6. **Example Usage:**\\n   - `numbers = [1, 2, 3, 4, 5]`:  A sample array of numbers is created.\\n   - `sum_of_numbers = sum_array(numbers)`: The `sum_array` function is called with the `numbers` array, and the returned sum is stored in the `sum_of_numbers` variable.\\n   - `print(f\"The sum of the array is: {sum_of_numbers}\")`: The calculated sum is printed to the console.\\n\\n\\n\\nLet me know if you have any other questions or would like to explore other ways to calculate the sum of array elements in Python!\\n', additional_kwargs={}, response_metadata={'token_usage': {'completion_tokens': 496, 'prompt_tokens': 24, 'total_tokens': 520, 'completion_time': 0.901818182, 'prompt_time': 0.002122982, 'queue_time': 0.1201682, 'total_time': 0.903941164}, 'model_name': 'gemma2-9b-it', 'system_fingerprint': 'fp_10c08bf97d', 'finish_reason': 'stop', 'logprobs': None}, id='run-42b82dd7-0ef3-47ec-9408-d48d8061a1c0-0', usage_metadata={'input_tokens': 24, 'output_tokens': 496, 'total_tokens': 520})}])\n",
            "content='```python\\ndef sum_array(array):\\n  \"\"\"Calculates the sum of all elements in an array.\\n\\n  Args:\\n    array: A list of numbers.\\n\\n  Returns:\\n    The sum of all elements in the array.\\n  \"\"\"\\n  total = 0  \\n  for number in array:\\n    total += number\\n  return total\\n\\n# Example usage\\nnumbers = [1, 2, 3, 4, 5]\\nsum_of_numbers = sum_array(numbers)\\nprint(f\"The sum of the array is: {sum_of_numbers}\") \\n```\\n\\n**Explanation:**\\n\\n1. **Function Definition:**\\n   - `def sum_array(array):` defines a function named `sum_array` that takes one argument, `array`, which is expected to be a list of numbers.\\n\\n2. **Initialization:**\\n   - `total = 0`:  A variable `total` is initialized to 0. This variable will store the running sum of the array elements.\\n\\n3. **Looping Through the Array:**\\n   - `for number in array:`: This loop iterates through each element (`number`) in the input `array`.\\n\\n4. **Accumulating the Sum:**\\n   - `total += number`: Inside the loop, the current `number` is added to the `total` variable. This effectively accumulates the sum of all elements encountered so far.\\n\\n5. **Returning the Sum:**\\n   - `return total`: After the loop has processed all elements, the function returns the final `total`, which represents the sum of the array.\\n\\n6. **Example Usage:**\\n   - `numbers = [1, 2, 3, 4, 5]`:  A sample array of numbers is created.\\n   - `sum_of_numbers = sum_array(numbers)`: The `sum_array` function is called with the `numbers` array, and the returned sum is stored in the `sum_of_numbers` variable.\\n   - `print(f\"The sum of the array is: {sum_of_numbers}\")`: The calculated sum is printed to the console.\\n\\n\\n\\nLet me know if you have any other questions or would like to explore other ways to calculate the sum of array elements in Python!\\n' additional_kwargs={} response_metadata={'token_usage': {'completion_tokens': 496, 'prompt_tokens': 24, 'total_tokens': 520, 'completion_time': 0.901818182, 'prompt_time': 0.002122982, 'queue_time': 0.1201682, 'total_time': 0.903941164}, 'model_name': 'gemma2-9b-it', 'system_fingerprint': 'fp_10c08bf97d', 'finish_reason': 'stop', 'logprobs': None} id='run-42b82dd7-0ef3-47ec-9408-d48d8061a1c0-0' usage_metadata={'input_tokens': 24, 'output_tokens': 496, 'total_tokens': 520}\n",
            "Assistant: ```python\n",
            "def sum_array(array):\n",
            "  \"\"\"Calculates the sum of all elements in an array.\n",
            "\n",
            "  Args:\n",
            "    array: A list of numbers.\n",
            "\n",
            "  Returns:\n",
            "    The sum of all elements in the array.\n",
            "  \"\"\"\n",
            "  total = 0  \n",
            "  for number in array:\n",
            "    total += number\n",
            "  return total\n",
            "\n",
            "# Example usage\n",
            "numbers = [1, 2, 3, 4, 5]\n",
            "sum_of_numbers = sum_array(numbers)\n",
            "print(f\"The sum of the array is: {sum_of_numbers}\") \n",
            "```\n",
            "\n",
            "**Explanation:**\n",
            "\n",
            "1. **Function Definition:**\n",
            "   - `def sum_array(array):` defines a function named `sum_array` that takes one argument, `array`, which is expected to be a list of numbers.\n",
            "\n",
            "2. **Initialization:**\n",
            "   - `total = 0`:  A variable `total` is initialized to 0. This variable will store the running sum of the array elements.\n",
            "\n",
            "3. **Looping Through the Array:**\n",
            "   - `for number in array:`: This loop iterates through each element (`number`) in the input `array`.\n",
            "\n",
            "4. **Accumulating the Sum:**\n",
            "   - `total += number`: Inside the loop, the current `number` is added to the `total` variable. This effectively accumulates the sum of all elements encountered so far.\n",
            "\n",
            "5. **Returning the Sum:**\n",
            "   - `return total`: After the loop has processed all elements, the function returns the final `total`, which represents the sum of the array.\n",
            "\n",
            "6. **Example Usage:**\n",
            "   - `numbers = [1, 2, 3, 4, 5]`:  A sample array of numbers is created.\n",
            "   - `sum_of_numbers = sum_array(numbers)`: The `sum_array` function is called with the `numbers` array, and the returned sum is stored in the `sum_of_numbers` variable.\n",
            "   - `print(f\"The sum of the array is: {sum_of_numbers}\")`: The calculated sum is printed to the console.\n",
            "\n",
            "\n",
            "\n",
            "Let me know if you have any other questions or would like to explore other ways to calculate the sum of array elements in Python!\n",
            "\n"
          ]
        },
        {
          "output_type": "stream",
          "name": "stderr",
          "text": [
            "WARNING:langsmith.client:Failed to send compressed multipart ingest: langsmith.utils.LangSmithAuthError: Authentication failed for https://api.smith.langchain.com/runs/multipart. HTTPError('401 Client Error: Unauthorized for url: https://api.smith.langchain.com/runs/multipart', '{\"error\":\"Unauthorized\"}\\n')\n"
          ]
        },
        {
          "output_type": "stream",
          "name": "stdout",
          "text": [
            "User: q\n",
            "Good Bye\n"
          ]
        }
      ]
    },
    {
      "cell_type": "code",
      "source": [],
      "metadata": {
        "id": "iciG41USvVGZ"
      },
      "execution_count": null,
      "outputs": []
    }
  ]
}